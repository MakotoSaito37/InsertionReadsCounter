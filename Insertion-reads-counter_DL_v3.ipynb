{
 "cells": [
  {
   "cell_type": "markdown",
   "metadata": {},
   "source": [
    "# Unique Insertion Reads Counter\n",
    "\n",
    "## Overview:\n",
    "- Intended to use for counting number of unique UMIs given putative insertion reads (single-end only). \n",
    "- Reads are filtered to contain both the donor sequence and the target sequence with fuzzy string matching\n",
    "- Global parameters are at the top, files are read in as .fastq files, sample sheet gives donor/target sequence, RC, and file/sample names\n",
    "- Can also plot the distribution of UMI read counts, plot insertion site positions, and return .fastq files containing insertion reads\n",
    "- Optional parallelization across samples for faster run time\n",
    "\n",
    "### Modified from Alim/Makoto's original script"
   ]
  },
  {
   "cell_type": "code",
   "execution_count": 6,
   "metadata": {},
   "outputs": [],
   "source": [
    "# Parameters to modify\n",
    "\n",
    "#General Params\n",
    "UMI_start = 50 # Distance from start of donor sequence to start of UMI\n",
    "UMI_length = 5 # Length of UMI to count\n",
    "experiment_marker = \".fastq\" #File format to read in (Doesn't actually work for anything but .fastq :P )\n",
    "paired_end = False #Paired-end or single-end, still under development\n",
    "\n",
    "#Fuzzy string matching matches more reads, but also takes longer to run\n",
    "allow_errors = False # Setting for whether to allow errors in target/donor sequence match, T/F\n",
    "donor_errors = 0 # Number of errors (indels, substitions) to allow between reads and donor sequence to match\n",
    "target_errors = 0 # Number of errors (indels, substitions) to allow between reads and target sequence to match\n",
    "\n",
    "#Optional filtering for insertion position\n",
    "filter_insert_position = True # Setting for whether to threshold allowed insertion positions, T/F\n",
    "insert_pos_min = 0 # Minimum insertion position, inclusive, relative to start of donor if filtering on\n",
    "insert_pos_max = 120  # Maximum insertion position, inclusive, relative to start of donor if filtering on"
   ]
  },
  {
   "cell_type": "code",
   "execution_count": 7,
   "metadata": {},
   "outputs": [],
   "source": [
    "#Import helpful packages\n",
    "import csv\n",
    "import itertools\n",
    "import sys\n",
    "import os\n",
    "import math\n",
    "import numpy as np\n",
    "from tqdm.notebook import tnrange, tqdm_notebook, tqdm\n",
    "\n",
    "#Packages for data analysis and plotting\n",
    "import pandas as pd\n",
    "import seaborn as sns\n",
    "import matplotlib.pyplot as plt\n",
    "\n",
    "\n",
    "#Packages for sequence parsing\n",
    "import regex as re #Different from re from Alim's script, allows fuzzy matching\n",
    "from Bio import SeqIO\n",
    "\n",
    "#Packages for parallelization\n",
    "from multiprocess import Pool\n",
    "import psutil\n",
    "from functools import partial"
   ]
  },
  {
   "cell_type": "markdown",
   "metadata": {},
   "source": [
    "## Helper Functions"
   ]
  },
  {
   "cell_type": "code",
   "execution_count": 8,
   "metadata": {},
   "outputs": [],
   "source": [
    "def sort_R_file(file_list):\n",
    "    '''\n",
    "    Sorts read files by name to determine forward/reverse read (relevant for paired end)\n",
    "    '''\n",
    "    sorted_list = ['','']\n",
    "    for file in file_list:\n",
    "        if 'R1_' in file:\n",
    "            sorted_list[0] = file\n",
    "        else:\n",
    "            sorted_list[1] = file\n",
    "    return sorted_list"
   ]
  },
  {
   "cell_type": "code",
   "execution_count": 9,
   "metadata": {},
   "outputs": [],
   "source": [
    "def insertion_counter(fastq_f_r1, target, donor, rev_com):\n",
    "    '''\n",
    "    Processes .fastq files to count insertion reads and output statistics as well as dictionary of UMIs and counts,\n",
    "        insertion positions, insertion positions for each UMI, and reads to generate a .fastq\n",
    "    Inputs:\n",
    "        fastq_f_r1: file name of relevant fastq file, as a string\n",
    "        target: target sequence to match, as a string\n",
    "        donor: donor sequence to match, as a string\n",
    "        rev_com: reverse complement param, as a boolean (int of 0 or 1)\n",
    "        Implicitly takes in many params related to UMI position, length, fuzzy string matching, and filtering\n",
    "    Outputs:\n",
    "        Prints # of reads, # of insertion reads, # of unique UMIs\n",
    "        insertion_dict: stores UMIs as keys with counts per UMI as values\n",
    "        insert_pos_list: list of insertion positions\n",
    "        UMI_insert_pos_list: list of insertion positions deduplicated by UMI\n",
    "        insertion_read_list: list of reads that are insertions, for later output as a .fastq for examination\n",
    "    '''\n",
    "    # Initialize variables\n",
    "    num_reads = 0\n",
    "    insertion_reads = 0\n",
    "    unique_insertion_reads = 0\n",
    "    insertion_dict = {} \n",
    "    insert_pos_list = [] \n",
    "    UMI_insert_pos_list = []\n",
    "    insertion_read_list = []\n",
    "    \n",
    "    # Process input strings and define regexes\n",
    "    target = target.upper()\n",
    "    donor = donor.upper()   \n",
    "    if allow_errors:\n",
    "        target_error_string = \"{\"+f\"e<={target_errors}\"+\"}\"\n",
    "        donor_error_string = \"{\"+f\"e<={donor_errors}\"+\"}\"     \n",
    "        target_pattern = f\"(?e)({target}){target_error_string}\"\n",
    "        donor_pattern = f\"(?e)({donor}){donor_error_string}\"\n",
    "    else:\n",
    "        target_pattern = target\n",
    "        donor_pattern = donor\n",
    "\n",
    "\n",
    "    # Extract and iterate through reads from .fastq file\n",
    "    readiter_f = SeqIO.parse(fastq_f_r1, \"fastq\")\n",
    "    pbar2 = tqdm(readiter_f)\n",
    "    for record_f in pbar2:\n",
    "        num_reads += 1\n",
    "        read_sequence_f = str.upper(str(record_f.seq))\n",
    "        if rev_com:\n",
    "            read_sequence_f = str.upper(str(record_f.seq.reverse_complement()))\n",
    "            \n",
    "        # Search for target and donor match, store and record relevant information\n",
    "        target_match = re.search(target_pattern, read_sequence_f)\n",
    "        if target_match:\n",
    "            donor_site = re.search(donor_pattern, read_sequence_f)\n",
    "            if donor_site:\n",
    "                    target_insertion = donor_site.start()-target_match.start()\n",
    "                    UMI_seq = read_sequence_f[donor_site.start()+UMI_start:donor_site.start()+UMI_start+UMI_length]\n",
    "                    if (insert_pos_min <= target_insertion <= insert_pos_max) or (not filter_insert_position):\n",
    "                        insertion_reads +=1\n",
    "                        insert_pos_list.append(target_insertion)\n",
    "                        insertion_read_list.append(record_f)\n",
    "                        if UMI_seq not in insertion_dict:\n",
    "                            unique_insertion_reads += 1\n",
    "                            UMI_insert_pos_list.append(target_insertion)                        \n",
    "                        insertion_dict[UMI_seq] = insertion_dict.get(UMI_seq, 0) + 1\n",
    "    pbar2.close()\n",
    "                \n",
    "    # Print Stats\n",
    "    print(num_reads,\"total reads, \",insertion_reads,\" insertion reads \", unique_insertion_reads, \"unique insertion_reads\" )\n",
    "    \n",
    "    return [insertion_dict, insert_pos_list, UMI_insert_pos_list, insertion_read_list]"
   ]
  },
  {
   "cell_type": "code",
   "execution_count": 10,
   "metadata": {},
   "outputs": [],
   "source": [
    "def insertion_counter_parallel(sample_index):\n",
    "    '''\n",
    "    Helper function to parallelize insertion counter\n",
    "    Processes .fastq files to count insertion reads and output statistics as well as dictionary of UMIs and counts,\n",
    "        insertion positions, insertion positions for each UMI, and reads to generate a .fastq\n",
    "    Inputs:\n",
    "        sample_index: index of sample as string (e.g. \"A12\")\n",
    "        Implicitly takes in many params related to UMI position, length, fuzzy string matching, and filtering\n",
    "        Also takes in params that are in df containing sample information\n",
    "    Outputs:\n",
    "        Prints # of reads, # of insertion reads, # of unique UMIs\n",
    "        insertion_dict: stores UMIs as keys with counts per UMI as values\n",
    "        insert_pos_list: list of insertion positions\n",
    "        UMI_insert_pos_list: list of insertion positions deduplicated by UMI\n",
    "        insertion_read_list: list of reads that are insertions, for later output as a .fastq for examination\n",
    "    '''\n",
    "    #Get sample data and input into insertion_counter\n",
    "    sample = samples.loc[sample_index,:]\n",
    "\n",
    "    fastq_f_r1 = sample['Forward']\n",
    "    target = sample['Target']\n",
    "    donor = sample['Donor']\n",
    "    rev_com = sample['Reverse Complement']\n",
    "    intermediate_data = insertion_counter(fastq_f_r1, target, donor, rev_com)\n",
    "    print(sample['Name'])\n",
    "    return [sample['Name'], intermediate_data]"
   ]
  },
  {
   "cell_type": "code",
   "execution_count": 11,
   "metadata": {},
   "outputs": [],
   "source": [
    "def insertion_pos_plot(sample_name, deduplicated_by_UMI, print_out):\n",
    "    '''\n",
    "    Takes in sample names and a few params and plots plot of insertion positions\n",
    "    Inputs:\n",
    "        sample_name = sample name as string\n",
    "        deduplicated_by_UMI = Boolean for whether to look at insertion pos with or without deduplication\n",
    "        print_out = Boolean for whether to print out list of insertion positions or not\n",
    "    Outputs:\n",
    "        Graph of insertion positions\n",
    "        Prints out relevant insertion pos list dependent on print_out parameter\n",
    "    '''\n",
    "    #Acquire data\n",
    "    if sample_name not in data:\n",
    "        raise ValueError(\"Sample not found\")\n",
    "    if deduplicated_by_UMI:\n",
    "        insertion_positions = np.array(data[sample_name][2])\n",
    "    else:\n",
    "        insertion_positions = np.array(data[sample_name][1])\n",
    "\n",
    "    #Set up plot\n",
    "    left_of_first_bin = insertion_positions.min() - 0.5\n",
    "    right_of_last_bin = insertion_positions.max() + 0.5\n",
    "    plt.figure(figsize=(9, 6)) \n",
    "    plt.xticks(fontsize=14)  \n",
    "    plt.yticks(fontsize=14)  \n",
    "    plt.xlabel(\"Insertion Position\", fontsize=16)  \n",
    "    plt.ylabel(\"Count\", fontsize=16)\n",
    "    plt.hist(insertion_positions, np.arange(left_of_first_bin, right_of_last_bin + 1, 1), color=\"#3F5D7D\")\n",
    "    plt.show()\n",
    "    \n",
    "    #Print data if desired\n",
    "    if print_out:\n",
    "        print(*insertion_positions)"
   ]
  },
  {
   "cell_type": "code",
   "execution_count": 12,
   "metadata": {},
   "outputs": [
    {
     "data": {
      "text/html": [
       "<div>\n",
       "<style scoped>\n",
       "    .dataframe tbody tr th:only-of-type {\n",
       "        vertical-align: middle;\n",
       "    }\n",
       "\n",
       "    .dataframe tbody tr th {\n",
       "        vertical-align: top;\n",
       "    }\n",
       "\n",
       "    .dataframe thead th {\n",
       "        text-align: right;\n",
       "    }\n",
       "</style>\n",
       "<table border=\"1\" class=\"dataframe\">\n",
       "  <thead>\n",
       "    <tr style=\"text-align: right;\">\n",
       "      <th></th>\n",
       "      <th>0</th>\n",
       "      <th>1</th>\n",
       "      <th>2</th>\n",
       "      <th>3</th>\n",
       "      <th>4</th>\n",
       "      <th>5</th>\n",
       "      <th>6</th>\n",
       "      <th>7</th>\n",
       "      <th>8</th>\n",
       "      <th>9</th>\n",
       "      <th>...</th>\n",
       "      <th>111</th>\n",
       "      <th>112</th>\n",
       "      <th>113</th>\n",
       "      <th>114</th>\n",
       "      <th>115</th>\n",
       "      <th>116</th>\n",
       "      <th>117</th>\n",
       "      <th>118</th>\n",
       "      <th>119</th>\n",
       "      <th>120</th>\n",
       "    </tr>\n",
       "  </thead>\n",
       "  <tbody>\n",
       "  </tbody>\n",
       "</table>\n",
       "<p>0 rows × 121 columns</p>\n",
       "</div>"
      ],
      "text/plain": [
       "Empty DataFrame\n",
       "Columns: [0, 1, 2, 3, 4, 5, 6, 7, 8, 9, 10, 11, 12, 13, 14, 15, 16, 17, 18, 19, 20, 21, 22, 23, 24, 25, 26, 27, 28, 29, 30, 31, 32, 33, 34, 35, 36, 37, 38, 39, 40, 41, 42, 43, 44, 45, 46, 47, 48, 49, 50, 51, 52, 53, 54, 55, 56, 57, 58, 59, 60, 61, 62, 63, 64, 65, 66, 67, 68, 69, 70, 71, 72, 73, 74, 75, 76, 77, 78, 79, 80, 81, 82, 83, 84, 85, 86, 87, 88, 89, 90, 91, 92, 93, 94, 95, 96, 97, 98, 99, ...]\n",
       "Index: []\n",
       "\n",
       "[0 rows x 121 columns]"
      ]
     },
     "execution_count": 12,
     "metadata": {},
     "output_type": "execute_result"
    }
   ],
   "source": [
    "final_df = pd.DataFrame(columns = list(np.arange(0,121,1)), dtype=object)\n",
    "final_df"
   ]
  },
  {
   "cell_type": "code",
   "execution_count": 13,
   "metadata": {},
   "outputs": [],
   "source": [
    "def insertion_pos_to_CSV(output_file, min_pos, max_pos, deduplicated_by_UMI):\n",
    "    '''\n",
    "    Iterates through samples and outputs read counts for a given window of insertion positions as .csv\n",
    "    Implicitly assumes that data has been generated by one of the insertion counter functions\n",
    "    Inputs:\n",
    "        output_file = output file name as string\n",
    "        min_pos = minimum insertion position to consider as window\n",
    "        max_pos = maximium insertion position to consider as window\n",
    "        deduplicated_by_UMI = Boolean for whether to look at insertion pos with or without deduplication\n",
    "        \n",
    "    Outputs:\n",
    "        .csv file of the insertion positions in same working directory\n",
    "    '''    \n",
    "    final_df = pd.DataFrame(columns = list(np.arange(min_pos,max_pos+1,1)), dtype=object)\n",
    "    for sample in samples.index.tolist():\n",
    "        sample_name = samples.loc[sample][0]\n",
    "        counters = []\n",
    "        if deduplicated_by_UMI:\n",
    "            insertion_positions = np.array(data[sample_name][2])\n",
    "        else:\n",
    "            insertion_positions = np.array(data[sample_name][1])\n",
    "        for x in np.arange(min_pos,max_pos+1,1):\n",
    "            counters.append(np. count_nonzero(insertion_positions==x))\n",
    "        final_df.loc[sample_name]=counters\n",
    "    if \".csv\" not in output_file:\n",
    "        raise ValueError(\"File name not valid\")\n",
    "    final_df.to_csv(output_file)    \n",
    "    return final_df\n",
    "        \n",
    "        "
   ]
  },
  {
   "cell_type": "code",
   "execution_count": 14,
   "metadata": {},
   "outputs": [],
   "source": [
    "def UMI_dist_plot(sample_name, scale, print_out, print_counts):\n",
    "    '''\n",
    "    Takes in sample name and plots plot of read counts per UMI\n",
    "    Inputs:\n",
    "        sample_name = sample name as string\n",
    "        scale = \"Log\" or \"Linear\"\n",
    "        print_out = Boolean for whether to print out UMIs or not\n",
    "        print_counts = Boolean for whether to print out UMI counts or not\n",
    "    Outputs:\n",
    "        Graph of insertion positions\n",
    "        Prints out relevant data dependent on print parameters\n",
    "    '''\n",
    "    #Acquire data\n",
    "    if sample_name not in data:\n",
    "        raise ValueError(\"Sample not found\")\n",
    "    else:\n",
    "        sample_UMI_dict = data[sample_name][0]\n",
    "\n",
    "    \n",
    "    #Set up data for plot\n",
    "    counts = []\n",
    "    UMIlabels = []\n",
    "    for UMI, count in sample_UMI_dict.items():\n",
    "        UMIlabels.append(UMI)\n",
    "        counts.append(count)\n",
    "    sorted_inds = np.array(counts).argsort()\n",
    "    sorted_counts = np.array(counts)[sorted_inds[::-1]]\n",
    "    sorted_UMIlabels = np.array(UMIlabels)[sorted_inds[::-1]]\n",
    "    \n",
    "    #Set up plot\n",
    "    plt.figure(figsize=(20, 8)) \n",
    "    plt.bar(np.arange(len(sorted_counts)),sorted_counts)\n",
    "    plt.xticks(fontsize=2)  \n",
    "    plt.yticks(fontsize=14)\n",
    "    if scale == \"Log\":\n",
    "        plt.yscale('log')\n",
    "    elif scale != \"Linear\":\n",
    "        raise ValueError(\"Scale parameter is not defined correctly\")\n",
    "    plt.xlabel(\"UMI # sorted by count\", fontsize=16)  \n",
    "    plt.ylabel(\"Read Count\", fontsize=16)\n",
    "    plt.show()\n",
    "\n",
    "    #Print data if desired\n",
    "    if print_out:\n",
    "        if print_counts:\n",
    "            print(*zip(sorted_UMIlabels, sorted_counts))   \n",
    "        else:\n",
    "            print(*sorted_UMIlabels)\n",
    "    elif print_counts:\n",
    "        print(*sorted_counts)"
   ]
  },
  {
   "cell_type": "code",
   "execution_count": 15,
   "metadata": {},
   "outputs": [],
   "source": [
    "def write_fastq(sample_name, file_name):\n",
    "    '''\n",
    "    Takes in sample name and writes reads to fastq file\n",
    "    Inputs:\n",
    "        sample_name = sample name as string\n",
    "        file_name = output file name as string\n",
    "    Outputs:\n",
    "        .fastq file in same working directory containing filtered reads\n",
    "    '''\n",
    "    #Acquire data\n",
    "    if sample_name not in data:\n",
    "        raise ValueError(\"Sample not found\")\n",
    "    else:\n",
    "        sample_reads = data[sample_name][3]\n",
    "\n",
    "    #Write reads to file\n",
    "    if \".fastq\" not in file_name:\n",
    "        raise ValueError(\"File name not valid\")\n",
    "    with open(file_name, \"w\") as output_handle:\n",
    "        SeqIO.write(sample_reads, output_handle, \"fastq\")\n",
    "    print(f\"Reads written to: {file_name}\")"
   ]
  },
  {
   "cell_type": "markdown",
   "metadata": {},
   "source": [
    "## Main Script"
   ]
  },
  {
   "cell_type": "code",
   "execution_count": 16,
   "metadata": {},
   "outputs": [
    {
     "name": "stdout",
     "output_type": "stream",
     "text": [
      "{'F1': ['P18_F1_S1693_R1_001.fastq'], 'F2': ['P18_F2_S1694_R1_001.fastq']}\n"
     ]
    }
   ],
   "source": [
    "#Lists and stores names of all unzipped .fastq files from current folder\n",
    "#Note: identifies samples by second term in .fastq name (applies to standard lab BCs, but not everyone's)\n",
    "cwd = os.getcwd()\n",
    "files = os.listdir(cwd)\n",
    "file_dict = {}\n",
    "for file in files:\n",
    "    if experiment_marker in file and '.gz' not in file:\n",
    "        sample = file.split('_')\n",
    "        try: \n",
    "            if sample[1] in file_dict:\n",
    "                file_dict[sample[1]].append(file)\n",
    "            else:\n",
    "                file_dict[sample[1]] = [file]\n",
    "        except:\n",
    "            raise ValueError(\"Folder contains .fastq file not fitting correct format\")\n",
    "print(file_dict)"
   ]
  },
  {
   "cell_type": "code",
   "execution_count": 17,
   "metadata": {},
   "outputs": [
    {
     "data": {
      "text/html": [
       "<div>\n",
       "<style scoped>\n",
       "    .dataframe tbody tr th:only-of-type {\n",
       "        vertical-align: middle;\n",
       "    }\n",
       "\n",
       "    .dataframe tbody tr th {\n",
       "        vertical-align: top;\n",
       "    }\n",
       "\n",
       "    .dataframe thead th {\n",
       "        text-align: right;\n",
       "    }\n",
       "</style>\n",
       "<table border=\"1\" class=\"dataframe\">\n",
       "  <thead>\n",
       "    <tr style=\"text-align: right;\">\n",
       "      <th></th>\n",
       "      <th>Name</th>\n",
       "      <th>Target</th>\n",
       "      <th>Donor</th>\n",
       "      <th>Reverse Complement</th>\n",
       "      <th>Forward</th>\n",
       "    </tr>\n",
       "    <tr>\n",
       "      <th>Sample</th>\n",
       "      <th></th>\n",
       "      <th></th>\n",
       "      <th></th>\n",
       "      <th></th>\n",
       "      <th></th>\n",
       "    </tr>\n",
       "  </thead>\n",
       "  <tbody>\n",
       "    <tr>\n",
       "      <th>F1</th>\n",
       "      <td>ID1_PSP1_uL</td>\n",
       "      <td>gagaagtcatttaataaggccactgttaaacgtagatata</td>\n",
       "      <td>TGTGACTGCAACCATAAGTTGTCTATTTCG</td>\n",
       "      <td>0</td>\n",
       "      <td>P18_F1_S1693_R1_001.fastq</td>\n",
       "    </tr>\n",
       "  </tbody>\n",
       "</table>\n",
       "</div>"
      ],
      "text/plain": [
       "               Name                                    Target  \\\n",
       "Sample                                                          \n",
       "F1      ID1_PSP1_uL  gagaagtcatttaataaggccactgttaaacgtagatata   \n",
       "\n",
       "                                 Donor  Reverse Complement  \\\n",
       "Sample                                                       \n",
       "F1      TGTGACTGCAACCATAAGTTGTCTATTTCG                   0   \n",
       "\n",
       "                          Forward  \n",
       "Sample                             \n",
       "F1      P18_F1_S1693_R1_001.fastq  "
      ]
     },
     "metadata": {},
     "output_type": "display_data"
    }
   ],
   "source": [
    "#Import Sample Sheet\n",
    "samples = pd.read_csv('Analysis_Sample_Sheet.csv', index_col = 0)\n",
    "for sample in samples.index.tolist():\n",
    "    fwd_file, rev_file = sort_R_file(file_dict[sample])\n",
    "    samples.loc[sample,'Forward'] = fwd_file\n",
    "    if paired_end:\n",
    "        samples.loc[sample, 'Reverse'] = rev_file #Empty string if no reverse read\n",
    "display(samples)"
   ]
  },
  {
   "cell_type": "code",
   "execution_count": 18,
   "metadata": {},
   "outputs": [
    {
     "data": {
      "application/vnd.jupyter.widget-view+json": {
       "model_id": "5a40aa54957a4e9da1108297c91da957",
       "version_major": 2,
       "version_minor": 0
      },
      "text/plain": [
       "HBox(children=(FloatProgress(value=0.0, max=1.0), HTML(value='')))"
      ]
     },
     "metadata": {},
     "output_type": "display_data"
    },
    {
     "data": {
      "application/vnd.jupyter.widget-view+json": {
       "model_id": "a656a248e96e49e3a16e24ad4c7da606",
       "version_major": 2,
       "version_minor": 0
      },
      "text/plain": [
       "HBox(children=(FloatProgress(value=1.0, bar_style='info', max=1.0), HTML(value='')))"
      ]
     },
     "metadata": {},
     "output_type": "display_data"
    },
    {
     "name": "stdout",
     "output_type": "stream",
     "text": [
      "\n",
      "961561 total reads,  5100  insertion reads  16 unique insertion_reads\n",
      "ID1_PSP1_uL\n",
      "\n"
     ]
    }
   ],
   "source": [
    "#Count insertion reads and process data for further analysis\n",
    "pbar = tqdm(samples.index.tolist()[:])\n",
    "data = {}\n",
    "for index in pbar:\n",
    "    sample = samples.loc[index,:]\n",
    "    sample_data = insertion_counter(sample['Forward'], sample['Target'], sample['Donor'], sample['Reverse Complement'])\n",
    "    print(sample['Name'])\n",
    "    if sample['Name'] not in data:\n",
    "        data[sample['Name']] = sample_data\n",
    "    else:\n",
    "        raise ValueError(\"Multiple samples with same name\")\n",
    "pbar.close()"
   ]
  },
  {
   "cell_type": "code",
   "execution_count": 19,
   "metadata": {},
   "outputs": [
    {
     "name": "stdout",
     "output_type": "stream",
     "text": [
      "\n",
      "961561 total reads,  5100  insertion reads  16 unique insertion_reads\n",
      "ID1_PSP1_uL\n"
     ]
    }
   ],
   "source": [
    "#Optional parallelized version (should be faster than the above given enough samples, is parallelized across samples)\n",
    "#Takes a bit to close the pool, but results generated quickly\n",
    "data = {}\n",
    "pool = Pool(psutil.cpu_count(logical=False))\n",
    "for [sample_name, processed_sample_data] in pool.imap(insertion_counter_parallel, samples.index.tolist()):\n",
    "    if sample_name not in data:\n",
    "        data[sample_name] = processed_sample_data\n",
    "    else:\n",
    "        raise ValueError(\"Multiple samples with same name\")\n",
    "pool.close()"
   ]
  },
  {
   "cell_type": "markdown",
   "metadata": {},
   "source": [
    "## Insertion Position Analysis"
   ]
  },
  {
   "cell_type": "code",
   "execution_count": 20,
   "metadata": {},
   "outputs": [
    {
     "name": "stdout",
     "output_type": "stream",
     "text": [
      "Help on function insertion_pos_plot in module __main__:\n",
      "\n",
      "insertion_pos_plot(sample_name, deduplicated_by_UMI, print_out)\n",
      "    Takes in sample names and a few params and plots plot of insertion positions\n",
      "    Inputs:\n",
      "        sample_name = sample name as string\n",
      "        deduplicated_by_UMI = Boolean for whether to look at insertion pos with or without deduplication\n",
      "        print_out = Boolean for whether to print out list of insertion positions or not\n",
      "    Outputs:\n",
      "        Graph of insertion positions\n",
      "        Prints out relevant insertion pos list dependent on print_out parameter\n",
      "\n"
     ]
    }
   ],
   "source": [
    "help(insertion_pos_plot)"
   ]
  },
  {
   "cell_type": "code",
   "execution_count": 21,
   "metadata": {},
   "outputs": [
    {
     "data": {
      "image/png": "[encoded data removed]",
      "text/plain": [
       "<Figure size 648x432 with 1 Axes>"
      ]
     },
     "metadata": {
      "needs_background": "light"
     },
     "output_type": "display_data"
    },
    {
     "name": "stdout",
     "output_type": "stream",
     "text": [
      "83 79 81 71 77 77 71 77 74 77 81 71 77 77 77 74\n"
     ]
    }
   ],
   "source": [
    "# Plot of insertion positions not deduplicated by UMI\n",
    "insertion_pos_plot(\"ID1_PSP1_uL\", True, True)"
   ]
  },
  {
   "cell_type": "code",
   "execution_count": 22,
   "metadata": {},
   "outputs": [
    {
     "data": {
      "image/png": "[encoded data removed]",
      "text/plain": [
       "<Figure size 648x432 with 1 Axes>"
      ]
     },
     "metadata": {
      "needs_background": "light"
     },
     "output_type": "display_data"
    }
   ],
   "source": [
    "# Plot of insertion positions deduplicated by UMI\n",
    "insertion_pos_plot(\"ID1_PSP1_uL\", True, False)"
   ]
  },
  {
   "cell_type": "code",
   "execution_count": 23,
   "metadata": {},
   "outputs": [
    {
     "data": {
      "image/png": "[encoded data removed]",
      "text/plain": [
       "<Figure size 648x432 with 1 Axes>"
      ]
     },
     "metadata": {
      "needs_background": "light"
     },
     "output_type": "display_data"
    },
    {
     "name": "stdout",
     "output_type": "stream",
     "text": [
      "83 79 81 71 77 77 71 77 74 77 81 71 77 77 77 74\n"
     ]
    }
   ],
   "source": [
    "# Print-out of insertion positions deduplicated by UMI\n",
    "insertion_pos_plot(\"ID1_PSP1_uL\", True, True)"
   ]
  },
  {
   "cell_type": "markdown",
   "metadata": {},
   "source": [
    "## UMI Read Distribution Analysis"
   ]
  },
  {
   "cell_type": "code",
   "execution_count": 24,
   "metadata": {},
   "outputs": [
    {
     "name": "stdout",
     "output_type": "stream",
     "text": [
      "Help on function UMI_dist_plot in module __main__:\n",
      "\n",
      "UMI_dist_plot(sample_name, scale, print_out, print_counts)\n",
      "    Takes in sample name and plots plot of read counts per UMI\n",
      "    Inputs:\n",
      "        sample_name = sample name as string\n",
      "        scale = \"Log\" or \"Linear\"\n",
      "        print_out = Boolean for whether to print out UMIs or not\n",
      "        print_counts = Boolean for whether to print out UMI counts or not\n",
      "    Outputs:\n",
      "        Graph of insertion positions\n",
      "        Prints out relevant data dependent on print parameters\n",
      "\n"
     ]
    }
   ],
   "source": [
    "help(UMI_dist_plot)"
   ]
  },
  {
   "cell_type": "code",
   "execution_count": 25,
   "metadata": {},
   "outputs": [
    {
     "data": {
      "image/png": "[encoded data removed]",
      "text/plain": [
       "<Figure size 1440x576 with 1 Axes>"
      ]
     },
     "metadata": {
      "needs_background": "light"
     },
     "output_type": "display_data"
    }
   ],
   "source": [
    "# UMI read plot with linear scale\n",
    "UMI_dist_plot(\"ID1_PSP1_uL\", \"Linear\", False, False)"
   ]
  },
  {
   "cell_type": "code",
   "execution_count": 26,
   "metadata": {},
   "outputs": [
    {
     "data": {
      "image/png": "[encoded data removed]",
      "text/plain": [
       "<Figure size 1440x576 with 1 Axes>"
      ]
     },
     "metadata": {
      "needs_background": "light"
     },
     "output_type": "display_data"
    },
    {
     "name": "stdout",
     "output_type": "stream",
     "text": [
      "5054 11 9 6 4 3 2 2 2 1 1 1 1 1 1 1\n"
     ]
    }
   ],
   "source": [
    "# UMI read plot with linear scale\n",
    "UMI_dist_plot(\"ID1_PSP1_uL\", \"Log\", False, True)"
   ]
  },
  {
   "cell_type": "code",
   "execution_count": 27,
   "metadata": {},
   "outputs": [
    {
     "data": {
      "image/png": "[encoded data removed]",
      "text/plain": [
       "<Figure size 1440x576 with 1 Axes>"
      ]
     },
     "metadata": {
      "needs_background": "light"
     },
     "output_type": "display_data"
    }
   ],
   "source": [
    "# UMI read plot with log scale\n",
    "UMI_dist_plot(\"ID1_PSP1_uL\", \"Log\", False, False)"
   ]
  },
  {
   "cell_type": "code",
   "execution_count": 28,
   "metadata": {},
   "outputs": [
    {
     "data": {
      "image/png": "[encoded data removed]",
      "text/plain": [
       "<Figure size 1440x576 with 1 Axes>"
      ]
     },
     "metadata": {
      "needs_background": "light"
     },
     "output_type": "display_data"
    },
    {
     "name": "stdout",
     "output_type": "stream",
     "text": [
      "TTGGC TTGGA TTGTC TGGCT TTTGC TTGGG TTGAC TTGCC CTGGC ATGGC TAGGC TTAGC TCGGC TGGGC TAGCC TTGGT\n"
     ]
    }
   ],
   "source": [
    "# Print-out of UMIs\n",
    "UMI_dist_plot(\"ID1_PSP1_uL\", \"Log\", True, False)"
   ]
  },
  {
   "cell_type": "code",
   "execution_count": 29,
   "metadata": {},
   "outputs": [
    {
     "data": {
      "image/png": "[encoded data removed]",
      "text/plain": [
       "<Figure size 1440x576 with 1 Axes>"
      ]
     },
     "metadata": {
      "needs_background": "light"
     },
     "output_type": "display_data"
    },
    {
     "name": "stdout",
     "output_type": "stream",
     "text": [
      "('TTGGC', 5054) ('TTGGA', 11) ('TTGTC', 9) ('TGGCT', 6) ('TTTGC', 4) ('TTGGG', 3) ('TTGAC', 2) ('TTGCC', 2) ('CTGGC', 2) ('ATGGC', 1) ('TAGGC', 1) ('TTAGC', 1) ('TCGGC', 1) ('TGGGC', 1) ('TAGCC', 1) ('TTGGT', 1)\n"
     ]
    }
   ],
   "source": [
    "# Print-out of UMIs with counts\n",
    "UMI_dist_plot(\"ID1_PSP1_uL\", \"Log\", True, True)"
   ]
  },
  {
   "cell_type": "code",
   "execution_count": 30,
   "metadata": {},
   "outputs": [
    {
     "data": {
      "image/png": "[encoded data removed]",
      "text/plain": [
       "<Figure size 1440x576 with 1 Axes>"
      ]
     },
     "metadata": {
      "needs_background": "light"
     },
     "output_type": "display_data"
    },
    {
     "name": "stdout",
     "output_type": "stream",
     "text": [
      "5054 11 9 6 4 3 2 2 2 1 1 1 1 1 1 1\n"
     ]
    }
   ],
   "source": [
    "# Print-out of counts only\n",
    "UMI_dist_plot(\"ID1_PSP1_uL\", \"Log\", False, True)"
   ]
  },
  {
   "cell_type": "markdown",
   "metadata": {},
   "source": [
    "## .fastq File Output"
   ]
  },
  {
   "cell_type": "code",
   "execution_count": 31,
   "metadata": {},
   "outputs": [
    {
     "name": "stdout",
     "output_type": "stream",
     "text": [
      "Help on function write_fastq in module __main__:\n",
      "\n",
      "write_fastq(sample_name, file_name)\n",
      "    Takes in sample name and writes reads to fastq file\n",
      "    Inputs:\n",
      "        sample_name = sample name as string\n",
      "        file_name = output file name as string\n",
      "    Outputs:\n",
      "        .fastq file in same working directory containing filtered reads\n",
      "\n"
     ]
    }
   ],
   "source": [
    "help(write_fastq)"
   ]
  },
  {
   "cell_type": "code",
   "execution_count": 32,
   "metadata": {},
   "outputs": [
    {
     "name": "stdout",
     "output_type": "stream",
     "text": [
      "Reads written to: InsertionReads//ID1_PSP1_uL.fastq\n"
     ]
    }
   ],
   "source": [
    "#For this line to work correctly, create a sub-folder named InsertionReads\n",
    "write_fastq(\"ID1_PSP1_uL\", \"InsertionReads//ID1_PSP1_uL.fastq\")"
   ]
  },
  {
   "cell_type": "markdown",
   "metadata": {},
   "source": [
    "# Insertion Positions to .csv"
   ]
  },
  {
   "cell_type": "code",
   "execution_count": 33,
   "metadata": {},
   "outputs": [
    {
     "name": "stdout",
     "output_type": "stream",
     "text": [
      "Help on function insertion_pos_to_CSV in module __main__:\n",
      "\n",
      "insertion_pos_to_CSV(output_file, min_pos, max_pos, deduplicated_by_UMI)\n",
      "    Iterates through samples and outputs read counts for a given window of insertion positions as .csv\n",
      "    Implicitly assumes that data has been generated by one of the insertion counter functions\n",
      "    Inputs:\n",
      "        output_file = output file name as string\n",
      "        min_pos = minimum insertion position to consider as window\n",
      "        max_pos = maximium insertion position to consider as window\n",
      "        deduplicated_by_UMI = Boolean for whether to look at insertion pos with or without deduplication\n",
      "        \n",
      "    Outputs:\n",
      "        .csv file of the insertion positions in same working directory\n",
      "\n"
     ]
    }
   ],
   "source": [
    "help(insertion_pos_to_CSV)"
   ]
  },
  {
   "cell_type": "code",
   "execution_count": 34,
   "metadata": {},
   "outputs": [
    {
     "data": {
      "text/html": [
       "<div>\n",
       "<style scoped>\n",
       "    .dataframe tbody tr th:only-of-type {\n",
       "        vertical-align: middle;\n",
       "    }\n",
       "\n",
       "    .dataframe tbody tr th {\n",
       "        vertical-align: top;\n",
       "    }\n",
       "\n",
       "    .dataframe thead th {\n",
       "        text-align: right;\n",
       "    }\n",
       "</style>\n",
       "<table border=\"1\" class=\"dataframe\">\n",
       "  <thead>\n",
       "    <tr style=\"text-align: right;\">\n",
       "      <th></th>\n",
       "      <th>0</th>\n",
       "      <th>1</th>\n",
       "      <th>2</th>\n",
       "      <th>3</th>\n",
       "      <th>4</th>\n",
       "      <th>5</th>\n",
       "      <th>6</th>\n",
       "      <th>7</th>\n",
       "      <th>8</th>\n",
       "      <th>9</th>\n",
       "      <th>...</th>\n",
       "      <th>112</th>\n",
       "      <th>113</th>\n",
       "      <th>114</th>\n",
       "      <th>115</th>\n",
       "      <th>116</th>\n",
       "      <th>117</th>\n",
       "      <th>118</th>\n",
       "      <th>119</th>\n",
       "      <th>120</th>\n",
       "      <th>121</th>\n",
       "    </tr>\n",
       "  </thead>\n",
       "  <tbody>\n",
       "    <tr>\n",
       "      <th>ID1_PSP1_uL</th>\n",
       "      <td>0</td>\n",
       "      <td>0</td>\n",
       "      <td>0</td>\n",
       "      <td>0</td>\n",
       "      <td>0</td>\n",
       "      <td>0</td>\n",
       "      <td>0</td>\n",
       "      <td>0</td>\n",
       "      <td>0</td>\n",
       "      <td>0</td>\n",
       "      <td>...</td>\n",
       "      <td>0</td>\n",
       "      <td>0</td>\n",
       "      <td>0</td>\n",
       "      <td>0</td>\n",
       "      <td>0</td>\n",
       "      <td>0</td>\n",
       "      <td>0</td>\n",
       "      <td>0</td>\n",
       "      <td>2</td>\n",
       "      <td>0</td>\n",
       "    </tr>\n",
       "  </tbody>\n",
       "</table>\n",
       "<p>1 rows × 122 columns</p>\n",
       "</div>"
      ],
      "text/plain": [
       "            0   1   2   3   4   5   6   7   8   9    ... 112 113 114 115 116  \\\n",
       "ID1_PSP1_uL   0   0   0   0   0   0   0   0   0   0  ...   0   0   0   0   0   \n",
       "\n",
       "            117 118 119 120 121  \n",
       "ID1_PSP1_uL   0   0   0   2   0  \n",
       "\n",
       "[1 rows x 122 columns]"
      ]
     },
     "execution_count": 34,
     "metadata": {},
     "output_type": "execute_result"
    }
   ],
   "source": [
    "insertion_pos_to_CSV(\"Insertion_Pos.csv\", 0, 121, False)"
   ]
  }
 ],
 "metadata": {
  "kernelspec": {
   "display_name": "Python 3",
   "language": "python",
   "name": "python3"
  },
  "language_info": {
   "codemirror_mode": {
    "name": "ipython",
    "version": 3
   },
   "file_extension": ".py",
   "mimetype": "text/x-python",
   "name": "python",
   "nbconvert_exporter": "python",
   "pygments_lexer": "ipython3",
   "version": "3.7.6"
  }
 },
 "nbformat": 4,
 "nbformat_minor": 2
}
